{
 "cells": [
  {
   "cell_type": "code",
   "execution_count": 0,
   "metadata": {
    "application/vnd.databricks.v1+cell": {
     "cellMetadata": {},
     "inputWidgets": {},
     "nuid": "55731849-9fcf-4fd9-bc0b-68a2131ef680",
     "showTitle": false,
     "tableResultSettingsMap": {},
     "title": ""
    }
   },
   "outputs": [],
   "source": [
    "# 1. Ler dados da tabela (simulando a ingestão dos dados raw)\n",
    "df = spark.table(\"origens.default.saida_1\")\n",
    "\n",
    "# 2. Mostrar esquema e dados para entender o que tem\n",
    "display(df.limit(10))\n",
    "\n",
    "# 3. NÃO fazer transformações nem tratamentos aqui, só copiar os dados\n",
    "\n",
    "df_raw = df  # só renomeando para deixar claro que é raw\n",
    "\n",
    "# 4. Salvar o resultado como tabela Delta (substituindo se já existir)\n",
    "df_raw.write.format(\"delta\") \\\n",
    "    .mode(\"overwrite\") \\\n",
    "    .saveAsTable(\"workspace.teste.saida_1\")\n",
    "\n",
    "# 5. Conferir o resultado (opcional)\n",
    "# display(spark.table(\"raw.datasus.saida_1_raw\"))"
   ]
  }
 ],
 "metadata": {
  "application/vnd.databricks.v1+notebook": {
   "computePreferences": null,
   "dashboards": [],
   "environmentMetadata": {
    "base_environment": "",
    "environment_version": "2"
   },
   "inputWidgetPreferences": null,
   "language": "python",
   "notebookMetadata": {
    "pythonIndentUnit": 4
   },
   "notebookName": "extracao-dados",
   "widgets": {}
  },
  "language_info": {
   "name": "python"
  }
 },
 "nbformat": 4,
 "nbformat_minor": 0
}
